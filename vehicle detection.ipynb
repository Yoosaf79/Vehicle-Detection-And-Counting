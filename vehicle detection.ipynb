{
 "cells": [
  {
   "cell_type": "code",
   "execution_count": 12,
   "id": "368cd91e-5127-44f6-8480-677675221062",
   "metadata": {},
   "outputs": [],
   "source": [
    "import numpy as np\n",
    "import cv2"
   ]
  },
  {
   "cell_type": "code",
   "execution_count": 13,
   "id": "7e916fb8-1702-4ebe-a085-e801cfafea15",
   "metadata": {},
   "outputs": [],
   "source": [
    "min_contour_width = 40\n",
    "min_contour_height = 40\n",
    "offset = 10\n",
    "line_height = 550\n",
    "matches = []\n",
    "vehicles = 0"
   ]
  },
  {
   "cell_type": "code",
   "execution_count": 14,
   "id": "9ac13cd3-56fc-4521-85e9-4a6a1542c4b8",
   "metadata": {},
   "outputs": [],
   "source": [
    "def get_centrolid(x,y,w,h):\n",
    "    x1 = int(w/2)\n",
    "    y1 = int(h/2)\n",
    "    cx = x + x1\n",
    "    cy = y + y1\n",
    "    return cx,cy"
   ]
  },
  {
   "cell_type": "code",
   "execution_count": 15,
   "id": "65366de5-7106-4055-9f72-e2a529fdff57",
   "metadata": {},
   "outputs": [],
   "source": [
    "cap = cv2.VideoCapture('Video.mp4')\n"
   ]
  },
  {
   "cell_type": "code",
   "execution_count": 16,
   "id": "7c821ee1-7068-4e1c-ad2c-e7c8d412d7b3",
   "metadata": {},
   "outputs": [],
   "source": [
    "cap.set(3,1920)\n",
    "cap.set(4,1080)\n",
    "if cap.isOpened():\n",
    "    ret, frame1 = cap.read()\n",
    "else:\n",
    "    ret = False\n",
    "ret, frame1 = cap.read()\n",
    "ret, frame2 = cap.read()"
   ]
  },
  {
   "cell_type": "code",
   "execution_count": 17,
   "id": "3678b7a5-fbf4-4645-9185-848eee0a47ca",
   "metadata": {},
   "outputs": [],
   "source": [
    "while ret:\n",
    "    d = cv2.absdiff(frame1, frame2)\n",
    "    grey = cv2.cvtColor(d, cv2.COLOR_BGR2GRAY)\n",
    "    blur = cv2.GaussianBlur(grey, (5, 5), 0)\n",
    "\n",
    "    ret, th = cv2.threshold(blur, 20, 255, cv2.THRESH_BINARY)\n",
    "    dilated = cv2.dilate(th, np.ones((3,3)))\n",
    "    kernel = cv2.getStructuringElement(cv2.MORPH_ELLIPSE(2,2))\n",
    "    closing = cv2.morphologyEx(dilated, cv2.MORPH_CLOSE, kerne)\n",
    "    contours, h = cv2.findContours(\n",
    "        closing, cv2.RETR_TREE, cv2.CHAIN_APPROX_SIMPLE)\n",
    "    for(i,c) in enumirate(contours):\n",
    "        (x,y,w,h) = cv2.boundingRect(c)\n",
    "        contour_valid = (w >= min_contour_width) and (h >= min_contour_height)\n",
    "        if not contour_valid:\n",
    "            continue\n",
    "        cv2.rectangle(frame1, (x-10,y-10), (x+w+10, y+h+10), (255, 0, 0), 2)\n",
    "\n",
    "        cv2.line(frame1, (0, line_height), (1200, line_height), (0, 255, 0), 2)\n",
    "\n",
    "        centrolid = cv2.centrolid(x,y,w,h)\n",
    "        matches.append(centrolid)\n",
    "        cv2.circle(frame1, centrolid, 5, (0, 255, 0), -1)\n",
    "        cx, cy = get_centrolid(x,y,w,h)\n",
    "        for (x,y) in matches:\n",
    "            if y < (line_height+offset) and y < (line_heiht-offset):\n",
    "                vehicles = vehicles+1\n",
    "                matches.remove((x,y))\n",
    "    cv2.putText(frame1, \"Total vehicle Detected: \", str(vehicles), (10,90), cv2.FONT_HERSHEY_SIMPLEX, 1, (0, 170, 0), 2)\n",
    "\n",
    "    cv2.imshow(\"Vehicle Detection\", frame1)\n",
    "    if cv2.waitkey(1) == 27:\n",
    "        break\n",
    "    frame1=frame2\n",
    "    ret, frame2 = cap.read()\n",
    "    \n",
    "cv2.destroyAllWindows()\n",
    "cap.release()\n",
    "    "
   ]
  },
  {
   "cell_type": "code",
   "execution_count": null,
   "id": "1d38188d-3c2e-48cc-9c26-39a1c3396058",
   "metadata": {},
   "outputs": [],
   "source": []
  }
 ],
 "metadata": {
  "kernelspec": {
   "display_name": "Python [conda env:base] *",
   "language": "python",
   "name": "conda-base-py"
  },
  "language_info": {
   "codemirror_mode": {
    "name": "ipython",
    "version": 3
   },
   "file_extension": ".py",
   "mimetype": "text/x-python",
   "name": "python",
   "nbconvert_exporter": "python",
   "pygments_lexer": "ipython3",
   "version": "3.13.5"
  }
 },
 "nbformat": 4,
 "nbformat_minor": 5
}
